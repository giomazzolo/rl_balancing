{
 "cells": [
  {
   "cell_type": "markdown",
   "metadata": {},
   "source": [
    "Install dependencies"
   ]
  },
  {
   "cell_type": "code",
   "execution_count": null,
   "metadata": {},
   "outputs": [],
   "source": [
    "%pip install numpy\n",
    "%pip install pandas\n",
    "%pip install matplotlib\n",
    "%pip install seaborn\n",
    "%pip install oct2py\n",
    "%pip install octave-kernel"
   ]
  },
  {
   "cell_type": "markdown",
   "metadata": {},
   "source": [
    "Server Code (TCP) - Too slow"
   ]
  },
  {
   "cell_type": "code",
   "execution_count": null,
   "metadata": {},
   "outputs": [],
   "source": [
    "import socket\n",
    "\n",
    "HOST, PORT = \"localhost\", 4000\n",
    "\n",
    "s_srvr = socket.socket(socket.AF_INET, socket.SOCK_STREAM)\n",
    "s_srvr.bind((HOST, PORT))\n",
    "print (HOST , PORT)\n",
    "\n",
    "import json\n",
    "\n",
    "def srvr_read():\n",
    "    try:\n",
    "        data = conn.recv(64)\n",
    "    except socket.error:\n",
    "        print (\"Error Occured.\")\n",
    "        \n",
    "    return data\n",
    "\n",
    "def srvr_write(data):\n",
    "    try:\n",
    "        conn.send(str(data).encode(\"utf-8\"))\n",
    "    except socket.error:\n",
    "        print (\"Error Occured.\")\n",
    "\n",
    "def shutdown_conns():\n",
    "    conn.close()\n",
    "    s_srvr.close()"
   ]
  },
  {
   "cell_type": "code",
   "execution_count": null,
   "metadata": {},
   "outputs": [],
   "source": [
    "import time\n",
    "\n",
    "# Listen for connection and connect\n",
    "s_srvr.listen(1)\n",
    "conn, addr = s_srvr.accept()\n",
    "print('Connected by', addr)\n",
    "\n",
    "voltage = []\n",
    "\n",
    "cmd = json.dumps({\"cmd\":1}) # 1 = continue, 0 = stop\n",
    "\n",
    "while True:\n",
    "\n",
    "    srvr_write(cmd)\n",
    "\n",
    "    start = time.time()\n",
    "    data = srvr_read()\n",
    "    end = time.time()\n",
    "\n",
    "    print(\"time for client to process and send:\", end-start)\n",
    "\n",
    "    data_s = json.loads(data)\n",
    "\n",
    "    if data_s[\"end\"] == True:\n",
    "        break\n",
    "    voltage.append(data_s[\"vk\"])\n",
    "\n",
    "    #print(voltage[-1])\n"
   ]
  },
  {
   "cell_type": "markdown",
   "metadata": {},
   "source": [
    "Server Code - UDP (Twice as fast but still slow)"
   ]
  },
  {
   "cell_type": "code",
   "execution_count": null,
   "metadata": {},
   "outputs": [],
   "source": [
    "import socket\n",
    "\n",
    "upd_ip_addr = \"127.0.0.1\"\n",
    "\n",
    "udp_port_in = 40408\n",
    "upd_port_out = 40404\n",
    "\n",
    "udp_conn = socket.socket(socket.AF_INET, socket.SOCK_DGRAM)\n",
    "udp_conn.bind((upd_ip_addr, udp_port_in))\n",
    "\n",
    "import json\n",
    "\n",
    "def udp_read():\n",
    "    try:\n",
    "        data, addr = udp_conn.recvfrom(128)\n",
    "        return data\n",
    "    except socket.error:\n",
    "        print (\"Error Occured.\")\n",
    "\n",
    "def udp_write(data):\n",
    "    try:\n",
    "        udp_conn.sendto(str(data).encode(\"utf-8\"), (upd_ip_addr, upd_port_out))\n",
    "    except socket.error:\n",
    "        print (\"Error Occured.\")"
   ]
  },
  {
   "cell_type": "code",
   "execution_count": null,
   "metadata": {},
   "outputs": [],
   "source": [
    "import time\n",
    "\n",
    "voltage = []\n",
    "\n",
    "cmd = json.dumps({\"cmd\":1}) # 1 = continue, 0 = stop\n",
    "\n",
    "while True:\n",
    "\n",
    "    udp_write(cmd)\n",
    "\n",
    "    start = time.time()\n",
    "    data_in = udp_read()\n",
    "    end = time.time()\n",
    "\n",
    "    print(\"time for client to process and send:\", end-start)\n",
    "\n",
    "    data_s = json.loads(data_in)\n",
    "\n",
    "    if data_s[\"end\"] == True:\n",
    "        break\n",
    "    voltage.append(data_s[\"vk\"])\n",
    "\n",
    "    #print(voltage[-1])"
   ]
  },
  {
   "cell_type": "markdown",
   "metadata": {},
   "source": [
    "MemMap"
   ]
  },
  {
   "cell_type": "code",
   "execution_count": null,
   "metadata": {},
   "outputs": [],
   "source": [
    "import mmap\n",
    "import struct\n",
    "\n",
    "f_in = open(\"simCell_out.dat\", \"r+b\")\n",
    "# memory-map the file, size 0 means whole file\n",
    "mm_in = mmap.mmap(f_in.fileno(), 0)\n",
    "\n",
    "# read content via standard file methods\n",
    "mm_in.seek(0)\n",
    "bytes = mm_in.read(24)\n",
    "print(struct.unpack(\"ddd\", bytes))\n",
    "\n",
    "# close the map\n",
    "mm_in.close()\n",
    "f_in.close()"
   ]
  },
  {
   "cell_type": "code",
   "execution_count": null,
   "metadata": {},
   "outputs": [],
   "source": [
    "import mmap\n",
    "import struct\n",
    "\n",
    "sync = 0\n",
    "cmd = 0\n",
    "feedback = 0\n",
    "\n",
    "f_out = open(\"simCell_in.dat\", \"w+b\")\n",
    "f_out.write(struct.pack(\"ddd\", sync, cmd, feedback))\n",
    "f_out.flush()\n",
    "# memory-map the file, size 0 means whole file\n",
    "mm_out = mmap.mmap(f_out.fileno(), 0)\n",
    "# read content via standard file methods\n",
    "mm_out.seek(0)\n",
    "mm_out.write(struct.pack(\"ddd\", *([1]*3)))\n",
    "print(struct.unpack(\"ddd\", mm_out))\n",
    "\n",
    "# close the map\n",
    "mm_out.close()\n",
    "f_out.close()"
   ]
  },
  {
   "cell_type": "code",
   "execution_count": null,
   "metadata": {},
   "outputs": [],
   "source": [
    "import mmap\n",
    "import struct\n",
    "\n",
    "def file_clear():\n",
    "\n",
    "    f = open(\"simCell_in.dat\", \"w+b\")\n",
    "    f.write(struct.pack(\"ddd\", 0, 0, 0))\n",
    "    f.flush()\n",
    "    f.close()\n",
    "\n",
    "    f = open(\"simCell_out.dat\", \"w+b\")\n",
    "    f.write(struct.pack(\"ddd\", 0, 0, 0))\n",
    "    f.flush()\n",
    "    f.close()\n",
    "\n",
    "    del f\n",
    "\n",
    "\n",
    "def mmap_init():\n",
    "    f_in = open(\"simCell_out.dat\", \"r+b\")\n",
    "    mm_in = mmap.mmap(f_in.fileno(), 0)\n",
    "\n",
    "    f_out = open(\"simCell_in.dat\", \"a+b\")\n",
    "    mm_out = mmap.mmap(f_out.fileno(), 0)\n",
    "\n",
    "    return mm_in, f_in, mm_out, f_out\n",
    "    \n",
    "def read_mmap():\n",
    "\n",
    "    mm_in.seek(0)\n",
    "    bytes = struct.unpack(\"ddd\", mm_in.read(8*3))\n",
    "    return bytes\n",
    "\n",
    "def write_mmap(sync, cmd, feedback):\n",
    "    \n",
    "    mm_out.seek(0)\n",
    "    mm_out.write(struct.pack(\"ddd\", sync, cmd, feedback))\n",
    "    #mm_out.flush()\n",
    "\n",
    "def mmap_close():\n",
    "    try:\n",
    "        mm_out.close()\n",
    "    except:\n",
    "        print(\"mm_out already closed\")\n",
    "    try:\n",
    "        f_out.close()\n",
    "    except:\n",
    "        print(\"f_out already closed\")\n",
    "    try:\n",
    "        mm_in.close()\n",
    "    except:\n",
    "        print(\"mm_in already closed\")\n",
    "    try:\n",
    "        f_in.close()\n",
    "    except:\n",
    "        print(\"f_in already closed\")"
   ]
  },
  {
   "cell_type": "code",
   "execution_count": null,
   "metadata": {},
   "outputs": [],
   "source": [
    "import time\n",
    "\n",
    "file_clear()\n",
    "\n",
    "mm_in, f_in, mm_out, f_out = mmap_init()\n",
    "\n",
    "voltage = []\n",
    "\n",
    "cmd = 1\n",
    "feedback = 0\n",
    "sync = 0\n",
    "\n",
    "\n",
    "while True:\n",
    "\n",
    "    sync = sync + 1\n",
    "    write_mmap(sync, cmd, feedback)\n",
    "\n",
    "    #start = time.time()\n",
    "    \n",
    "    data_in = read_mmap()\n",
    "    while sync != data_in[0]:\n",
    "        data_in = read_mmap()\n",
    "\n",
    "    #end = time.time()\n",
    "    #print(\"time for client to process and send:\", end-start)\n",
    "\n",
    "    voltage.append(data_in[2])\n",
    "\n",
    "    if data_in[1] == False:\n",
    "        break\n",
    "\n",
    "    #print(voltage[-1])\n",
    "\n",
    "cmd = 0\n",
    "write_mmap(sync+1, cmd, feedback)\n",
    "\n",
    "mmap_close()"
   ]
  },
  {
   "cell_type": "markdown",
   "metadata": {},
   "source": [
    "Memory Map with Library"
   ]
  },
  {
   "cell_type": "code",
   "execution_count": 8,
   "metadata": {},
   "outputs": [],
   "source": [
    "import subprocess\n",
    "import time\n",
    "import mmapTx\n",
    "\n",
    "def getSimData():\n",
    "\n",
    "    mmaptx = mmapTx.Mmaptx(name=\"simCell\", format_type=\"d\", in_size=2, out_size=2, blocking=True)\n",
    "\n",
    "    data_list = []\n",
    "    cmd = 1\n",
    "    feedback = 0\n",
    "    start = time.time()\n",
    "\n",
    "    # Start recieving data\n",
    "    while True:\n",
    "\n",
    "        mmaptx.write(cmd, feedback)\n",
    "        data_in = mmaptx.read()\n",
    "        data_list.append(data_in[1])\n",
    "\n",
    "        if data_in[0] == False:\n",
    "            break\n",
    "\n",
    "        #print(voltage[-1])\n",
    "\n",
    "    # Send \n",
    "    cmd = 0 # Send stop command\n",
    "    mmaptx.write(cmd, feedback)\n",
    "\n",
    "    # Print out time\n",
    "    end = time.time()\n",
    "    print(\"Execution time:\", end-start)\n",
    "\n",
    "    # Clean and close mmap\n",
    "    mmaptx.cleanup()\n",
    "    del mmaptx\n",
    "\n",
    "    return data_list\n",
    "\n",
    "def runSim():\n",
    "\n",
    "    bin2str = lambda a: [\"false\",\"true\"][a]\n",
    "\n",
    "    # runSimulation input args:\n",
    "    #   send2py - flag to allow data to be transferred to python\n",
    "    #   plotSim - flag to allow the exe to plot graphs\n",
    "    return subprocess.Popen([\"runSimulation.exe\"])\n",
    "\n",
    "def startSim():\n",
    "    process = runSim()\n",
    "    data = getSimData()\n",
    "    process.wait()\n",
    "    return data"
   ]
  },
  {
   "cell_type": "markdown",
   "metadata": {},
   "source": [
    "Plotting"
   ]
  },
  {
   "cell_type": "code",
   "execution_count": 9,
   "metadata": {},
   "outputs": [
    {
     "name": "stdout",
     "output_type": "stream",
     "text": [
      "Execution time: 11.702459812164307\n"
     ]
    },
    {
     "data": {
      "text/plain": [
       "<Axes: >"
      ]
     },
     "execution_count": 9,
     "metadata": {},
     "output_type": "execute_result"
    },
    {
     "data": {
      "image/png": "[encoded data removed]",
      "text/plain": [
       "<Figure size 640x480 with 1 Axes>"
      ]
     },
     "metadata": {},
     "output_type": "display_data"
    }
   ],
   "source": [
    "import seaborn as sns\n",
    "\n",
    "data=startSim()\n",
    "\n",
    "sns.set_theme()\n",
    "sns.lineplot(data=data, linewidth = 0.5)\n"
   ]
  }
 ],
 "metadata": {
  "kernelspec": {
   "display_name": "Python 3",
   "language": "python",
   "name": "python3"
  },
  "language_info": {
   "codemirror_mode": {
    "name": "ipython",
    "version": 3
   },
   "file_extension": ".py",
   "mimetype": "text/x-python",
   "name": "python",
   "nbconvert_exporter": "python",
   "pygments_lexer": "ipython3",
   "version": "3.12.1"
  }
 },
 "nbformat": 4,
 "nbformat_minor": 2
}
