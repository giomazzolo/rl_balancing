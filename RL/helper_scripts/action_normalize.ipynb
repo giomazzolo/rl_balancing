{
 "cells": [
  {
   "cell_type": "code",
   "execution_count": 46,
   "metadata": {},
   "outputs": [
    {
     "name": "stdout",
     "output_type": "stream",
     "text": [
      "a: [1.15716261 1.22546804 0.87840145 1.11336672 0.62560119]\n",
      "sum of a: 5.000000000000002\n"
     ]
    }
   ],
   "source": [
    "import numpy as np\n",
    "import numpy.random as rnd\n",
    "\n",
    "minPower = 0.5\n",
    "maxPower = 1.5\n",
    "\n",
    "a = rnd.random(5) * 2.0 - 1.0 # Get random values between -1 and 1\n",
    "a = (a + 1.0)/2.0 + 0.5 # Scale them to range 0.5 to 1.5\n",
    "a = a/sum(a) # Softmax normalization\n",
    "a = a * len(a) # Scale to number of cells/values in array\n",
    "\n",
    "# If values are off limits (less or more than minimum allowed power)\n",
    "# then set them to the corresponding limit and scale the other values \n",
    "# to accomodate for the loss or gain so that the sum of the values in the\n",
    "# array add up to the total number of cells\n",
    "\n",
    "if a.min() < minPower:\n",
    "    min_indexes = []\n",
    "    diff = 0.0\n",
    "    a_sum = 0.0\n",
    "    for i in range(len(a)):\n",
    "        if a[i] < minPower:\n",
    "            min_indexes.append(i)\n",
    "            diff = diff + minPower-a[i]\n",
    "        else:\n",
    "            a_sum = a_sum + a[i]\n",
    "    a = a - (a/a_sum)*diff\n",
    "    for i in min_indexes: a[i] = minPower \n",
    "\n",
    "if a.max() > maxPower:\n",
    "    max_indexes = []\n",
    "    diff = 0.0\n",
    "    a_sum = 0.0\n",
    "    for i in range(len(a)):\n",
    "        if a[i] > maxPower:\n",
    "            max_indexes.append(i)\n",
    "            diff = diff + a[i]-maxPower\n",
    "        else:\n",
    "            a_sum = a_sum + a[i]\n",
    "    a = a + (a/a_sum)*diff\n",
    "    for i in max_indexes: a[i] = maxPower \n",
    "\n",
    "print(\"a: \" + str(a))\n",
    "print(\"sum of a: \" + str(sum(a)))\n"
   ]
  }
 ],
 "metadata": {
  "kernelspec": {
   "display_name": "Python 3",
   "language": "python",
   "name": "python3"
  },
  "language_info": {
   "codemirror_mode": {
    "name": "ipython",
    "version": 3
   },
   "file_extension": ".py",
   "mimetype": "text/x-python",
   "name": "python",
   "nbconvert_exporter": "python",
   "pygments_lexer": "ipython3",
   "version": "3.12.1"
  }
 },
 "nbformat": 4,
 "nbformat_minor": 2
}
